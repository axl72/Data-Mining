{
 "cells": [
  {
   "cell_type": "markdown",
   "id": "6391dcf0",
   "metadata": {},
   "source": [
    "## Read Source from Excel"
   ]
  },
  {
   "cell_type": "code",
   "execution_count": 3,
   "id": "6283d67b",
   "metadata": {
    "ExecuteTime": {
     "end_time": "2023-08-16T05:44:44.831544Z",
     "start_time": "2023-08-16T05:44:44.785107Z"
    }
   },
   "outputs": [
    {
     "data": {
      "text/html": [
       "<div>\n",
       "<style scoped>\n",
       "    .dataframe tbody tr th:only-of-type {\n",
       "        vertical-align: middle;\n",
       "    }\n",
       "\n",
       "    .dataframe tbody tr th {\n",
       "        vertical-align: top;\n",
       "    }\n",
       "\n",
       "    .dataframe thead th {\n",
       "        text-align: right;\n",
       "    }\n",
       "</style>\n",
       "<table border=\"1\" class=\"dataframe\">\n",
       "  <thead>\n",
       "    <tr style=\"text-align: right;\">\n",
       "      <th></th>\n",
       "      <th>Año</th>\n",
       "      <th>Salario Real</th>\n",
       "    </tr>\n",
       "  </thead>\n",
       "  <tbody>\n",
       "    <tr>\n",
       "      <th>0</th>\n",
       "      <td>1.1</td>\n",
       "      <td>39343</td>\n",
       "    </tr>\n",
       "    <tr>\n",
       "      <th>1</th>\n",
       "      <td>1.3</td>\n",
       "      <td>46205</td>\n",
       "    </tr>\n",
       "    <tr>\n",
       "      <th>2</th>\n",
       "      <td>1.5</td>\n",
       "      <td>37731</td>\n",
       "    </tr>\n",
       "    <tr>\n",
       "      <th>3</th>\n",
       "      <td>2.0</td>\n",
       "      <td>43525</td>\n",
       "    </tr>\n",
       "    <tr>\n",
       "      <th>4</th>\n",
       "      <td>2.2</td>\n",
       "      <td>39891</td>\n",
       "    </tr>\n",
       "  </tbody>\n",
       "</table>\n",
       "</div>"
      ],
      "text/plain": [
       "   Año  Salario Real\n",
       "0  1.1         39343\n",
       "1  1.3         46205\n",
       "2  1.5         37731\n",
       "3  2.0         43525\n",
       "4  2.2         39891"
      ]
     },
     "execution_count": 3,
     "metadata": {},
     "output_type": "execute_result"
    }
   ],
   "source": [
    "import pandas as pd\n",
    "df = pd.read_excel('Salary_DataEmpty.xlsx', sheet_name='RAW')\n",
    "df.head()"
   ]
  },
  {
   "cell_type": "markdown",
   "id": "06322405",
   "metadata": {},
   "source": [
    "# Linear Regression\n",
    "Linear Regression for two variables is a simple model or function and can be modeled by the following expressión:\n",
    "\n",
    "$Y = \\beta_0 + \\beta_1X_i$\n",
    "\n",
    "where\n",
    "\n",
    "$\\beta_1 = r\\frac{S_y}{S_x} = \\frac{n \\sum(x \\cdot y) - \\sum x \\sum y}{n \\sum(x^2) - (\\sum x)^2}$\n",
    "\n",
    "and \n",
    "\n",
    "$\\beta_0 = \\frac{\\sum y - \\beta_1 \\sum x}{n}$"
   ]
  },
  {
   "cell_type": "markdown",
   "id": "bf2033d7",
   "metadata": {},
   "source": [
    "# Calculate varaibles"
   ]
  },
  {
   "cell_type": "code",
   "execution_count": 6,
   "id": "d6ea590f",
   "metadata": {
    "ExecuteTime": {
     "end_time": "2023-08-16T06:03:10.581612Z",
     "start_time": "2023-08-16T06:03:10.576331Z"
    }
   },
   "outputs": [],
   "source": [
    "# En nuestro dataset el Año es la variable independiente (x) y el Salraio Real es la varaible dependeinte (y)\n",
    "\n",
    "sum_xy = sum(df['Año']*df['Salario Real'])\n",
    "sum_x = sum(df['Año'])\n",
    "sum_y = sum(df['Salario Real'])\n",
    "n = len(df['Año'])\n",
    "sum_x2 = sum(df['Año']*df['Año'])\n",
    "sum2_x = sum(df['Año'])**2\n"
   ]
  },
  {
   "cell_type": "markdown",
   "id": "b9f1509a",
   "metadata": {},
   "source": [
    "# Calculate the equation of the line"
   ]
  },
  {
   "cell_type": "code",
   "execution_count": 9,
   "id": "fbaeb8f7",
   "metadata": {
    "ExecuteTime": {
     "end_time": "2023-08-16T06:06:55.992362Z",
     "start_time": "2023-08-16T06:06:55.987494Z"
    }
   },
   "outputs": [],
   "source": [
    "def linear_regression(x:float) -> float:\n",
    "    \"\"\"Linear regression function, receives an x variable and returns an estimated variable\"\"\"\n",
    "    beta_1 = (n*sum_xy-sum_x*sum_y)/(n*sum_x2-sum2_x)\n",
    "    beta_0 = (sum_y - beta_1*sum_x)/n\n",
    "    return beta_0 + beta_1*x"
   ]
  },
  {
   "cell_type": "markdown",
   "id": "3bf3e79e",
   "metadata": {},
   "source": [
    "# Show the results"
   ]
  },
  {
   "cell_type": "code",
   "execution_count": 15,
   "id": "67262a93",
   "metadata": {
    "ExecuteTime": {
     "end_time": "2023-08-16T06:12:20.484211Z",
     "start_time": "2023-08-16T06:12:19.677896Z"
    }
   },
   "outputs": [],
   "source": [
    "import matplotlib.pyplot as plt"
   ]
  },
  {
   "cell_type": "code",
   "execution_count": 21,
   "id": "4e12d21c",
   "metadata": {
    "ExecuteTime": {
     "end_time": "2023-08-16T06:15:04.571659Z",
     "start_time": "2023-08-16T06:15:04.336536Z"
    }
   },
   "outputs": [
    {
     "data": {
      "image/png": "[encoded data removed]",
      "text/plain": [
       "<Figure size 640x480 with 1 Axes>"
      ]
     },
     "metadata": {},
     "output_type": "display_data"
    }
   ],
   "source": [
    "# Crear el gráfico de dispersión de puntos\n",
    "plt.scatter(df['Año'], df['Salario Real'], label='Puntos')\n",
    "\n",
    "# Trazar la línea de regresión lineal\n",
    "plt.plot(df['Año'], df['Año'].apply(linear_regression), color='red', label='Recta de regresión')\n",
    "\n",
    "# Configurar etiquetas y título\n",
    "plt.xlabel('Eje X')\n",
    "plt.ylabel('Eje Y')\n",
    "plt.title('Gráfico de dispersión y regresión lineal')\n",
    "plt.legend()\n",
    "\n",
    "# Mostrar el gráfico\n",
    "plt.show()"
   ]
  },
  {
   "cell_type": "markdown",
   "id": "9250600a",
   "metadata": {},
   "source": [
    "# Answering questions\n",
    "#### What can be the salary of a programmer in 6 years?"
   ]
  },
  {
   "cell_type": "code",
   "execution_count": 24,
   "id": "40a38082",
   "metadata": {
    "ExecuteTime": {
     "end_time": "2023-08-16T06:19:55.483031Z",
     "start_time": "2023-08-16T06:19:55.479402Z"
    }
   },
   "outputs": [
    {
     "name": "stdout",
     "output_type": "stream",
     "text": [
      "The salary would be 82491.97412739915\n"
     ]
    }
   ],
   "source": [
    "print(f\"The salary would be {linear_regression(6)}\")"
   ]
  },
  {
   "cell_type": "markdown",
   "id": "b58f7dd4",
   "metadata": {
    "ExecuteTime": {
     "end_time": "2023-08-16T06:19:31.162745Z",
     "start_time": "2023-08-16T06:19:31.158060Z"
    }
   },
   "source": [
    "#### What can be the salary of a programmer in 7 years?"
   ]
  },
  {
   "cell_type": "code",
   "execution_count": 23,
   "id": "7589ba17",
   "metadata": {
    "ExecuteTime": {
     "end_time": "2023-08-16T06:19:50.323951Z",
     "start_time": "2023-08-16T06:19:50.318373Z"
    }
   },
   "outputs": [
    {
     "name": "stdout",
     "output_type": "stream",
     "text": [
      "The salaray would be 91941.93644885422\n"
     ]
    }
   ],
   "source": [
    "print(f\"The salaray would be {linear_regression(7)}\")"
   ]
  },
  {
   "cell_type": "markdown",
   "id": "e8106b54",
   "metadata": {},
   "source": [
    "#### What can be the salary of a programmer in 20 years?"
   ]
  },
  {
   "cell_type": "code",
   "execution_count": 26,
   "id": "ab1e3be8",
   "metadata": {
    "ExecuteTime": {
     "end_time": "2023-08-16T06:20:45.468773Z",
     "start_time": "2023-08-16T06:20:45.464043Z"
    }
   },
   "outputs": [
    {
     "name": "stdout",
     "output_type": "stream",
     "text": [
      "The salary would be 214791.44662777026\n"
     ]
    }
   ],
   "source": [
    "print(f\"The salary would be {linear_regression(20)}\")"
   ]
  },
  {
   "cell_type": "markdown",
   "id": "7d87e0db",
   "metadata": {},
   "source": [
    "#### What can be the salary of a programmer at the beginning of his career?"
   ]
  },
  {
   "cell_type": "code",
   "execution_count": 28,
   "id": "90cd21f8",
   "metadata": {
    "ExecuteTime": {
     "end_time": "2023-08-16T06:21:19.253052Z",
     "start_time": "2023-08-16T06:21:19.245760Z"
    }
   },
   "outputs": [
    {
     "name": "stdout",
     "output_type": "stream",
     "text": [
      "The salary would be 25792.200198668685\n"
     ]
    }
   ],
   "source": [
    "print(f\"The salary would be {linear_regression(0)}\")"
   ]
  }
 ],
 "metadata": {
  "kernelspec": {
   "display_name": "Python 3 (ipykernel)",
   "language": "python",
   "name": "python3"
  },
  "language_info": {
   "codemirror_mode": {
    "name": "ipython",
    "version": 3
   },
   "file_extension": ".py",
   "mimetype": "text/x-python",
   "name": "python",
   "nbconvert_exporter": "python",
   "pygments_lexer": "ipython3",
   "version": "3.11.3"
  }
 },
 "nbformat": 4,
 "nbformat_minor": 5
}
