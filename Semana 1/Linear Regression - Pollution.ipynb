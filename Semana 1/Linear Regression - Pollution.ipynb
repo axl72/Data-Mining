{
 "cells": [
  {
   "cell_type": "markdown",
   "id": "f0f8b70f",
   "metadata": {
    "ExecuteTime": {
     "end_time": "2023-08-20T10:48:38.793585Z",
     "start_time": "2023-08-20T10:48:36.750213Z"
    }
   },
   "source": [
    "## Import pandas and read dataset"
   ]
  },
  {
   "cell_type": "code",
   "execution_count": 93,
   "id": "da7d2bd6",
   "metadata": {
    "ExecuteTime": {
     "end_time": "2023-08-20T11:42:59.802420Z",
     "start_time": "2023-08-20T11:42:59.753360Z"
    }
   },
   "outputs": [
    {
     "data": {
      "text/html": [
       "<div>\n",
       "<style scoped>\n",
       "    .dataframe tbody tr th:only-of-type {\n",
       "        vertical-align: middle;\n",
       "    }\n",
       "\n",
       "    .dataframe tbody tr th {\n",
       "        vertical-align: top;\n",
       "    }\n",
       "\n",
       "    .dataframe thead th {\n",
       "        text-align: right;\n",
       "    }\n",
       "</style>\n",
       "<table border=\"1\" class=\"dataframe\">\n",
       "  <thead>\n",
       "    <tr style=\"text-align: right;\">\n",
       "      <th></th>\n",
       "      <th>0</th>\n",
       "      <th>1</th>\n",
       "      <th>2</th>\n",
       "      <th>3</th>\n",
       "      <th>4</th>\n",
       "      <th>5</th>\n",
       "      <th>6</th>\n",
       "      <th>7</th>\n",
       "      <th>8</th>\n",
       "      <th>9</th>\n",
       "      <th>...</th>\n",
       "      <th>52</th>\n",
       "      <th>53</th>\n",
       "      <th>54</th>\n",
       "      <th>55</th>\n",
       "      <th>56</th>\n",
       "      <th>57</th>\n",
       "      <th>58</th>\n",
       "      <th>59</th>\n",
       "      <th>60</th>\n",
       "      <th>61</th>\n",
       "    </tr>\n",
       "  </thead>\n",
       "  <tbody>\n",
       "    <tr>\n",
       "      <th>0</th>\n",
       "      <td>Data Source</td>\n",
       "      <td>NaN</td>\n",
       "      <td>NaN</td>\n",
       "      <td>NaN</td>\n",
       "      <td>NaN</td>\n",
       "      <td>NaN</td>\n",
       "      <td>NaN</td>\n",
       "      <td>NaN</td>\n",
       "      <td>NaN</td>\n",
       "      <td>NaN</td>\n",
       "      <td>...</td>\n",
       "      <td>NaN</td>\n",
       "      <td>NaN</td>\n",
       "      <td>NaN</td>\n",
       "      <td>NaN</td>\n",
       "      <td>NaN</td>\n",
       "      <td>NaN</td>\n",
       "      <td>NaN</td>\n",
       "      <td>NaN</td>\n",
       "      <td>NaN</td>\n",
       "      <td>NaN</td>\n",
       "    </tr>\n",
       "    <tr>\n",
       "      <th>1</th>\n",
       "      <td>Last Updated Date</td>\n",
       "      <td>NaN</td>\n",
       "      <td>NaN</td>\n",
       "      <td>NaN</td>\n",
       "      <td>NaN</td>\n",
       "      <td>NaN</td>\n",
       "      <td>NaN</td>\n",
       "      <td>NaN</td>\n",
       "      <td>NaN</td>\n",
       "      <td>NaN</td>\n",
       "      <td>...</td>\n",
       "      <td>NaN</td>\n",
       "      <td>NaN</td>\n",
       "      <td>NaN</td>\n",
       "      <td>NaN</td>\n",
       "      <td>NaN</td>\n",
       "      <td>NaN</td>\n",
       "      <td>NaN</td>\n",
       "      <td>NaN</td>\n",
       "      <td>NaN</td>\n",
       "      <td>NaN</td>\n",
       "    </tr>\n",
       "    <tr>\n",
       "      <th>2</th>\n",
       "      <td>NaN</td>\n",
       "      <td>NaN</td>\n",
       "      <td>NaN</td>\n",
       "      <td>NaN</td>\n",
       "      <td>NaN</td>\n",
       "      <td>NaN</td>\n",
       "      <td>NaN</td>\n",
       "      <td>NaN</td>\n",
       "      <td>NaN</td>\n",
       "      <td>NaN</td>\n",
       "      <td>...</td>\n",
       "      <td>NaN</td>\n",
       "      <td>NaN</td>\n",
       "      <td>NaN</td>\n",
       "      <td>NaN</td>\n",
       "      <td>NaN</td>\n",
       "      <td>NaN</td>\n",
       "      <td>NaN</td>\n",
       "      <td>NaN</td>\n",
       "      <td>NaN</td>\n",
       "      <td>NaN</td>\n",
       "    </tr>\n",
       "    <tr>\n",
       "      <th>3</th>\n",
       "      <td>Country Name</td>\n",
       "      <td>1960.000</td>\n",
       "      <td>1961.000</td>\n",
       "      <td>1962.000</td>\n",
       "      <td>1963.000</td>\n",
       "      <td>1964.000</td>\n",
       "      <td>1965.000</td>\n",
       "      <td>1966.000</td>\n",
       "      <td>1967.000</td>\n",
       "      <td>1968.000</td>\n",
       "      <td>...</td>\n",
       "      <td>2011.000</td>\n",
       "      <td>2012.000</td>\n",
       "      <td>2013.000</td>\n",
       "      <td>2014.000</td>\n",
       "      <td>2015.000</td>\n",
       "      <td>2016.000</td>\n",
       "      <td>2017.0</td>\n",
       "      <td>2018.0</td>\n",
       "      <td>2019.0</td>\n",
       "      <td>2020.0</td>\n",
       "    </tr>\n",
       "    <tr>\n",
       "      <th>4</th>\n",
       "      <td>Aruba</td>\n",
       "      <td>11092.675</td>\n",
       "      <td>11576.719</td>\n",
       "      <td>12713.489</td>\n",
       "      <td>12178.107</td>\n",
       "      <td>11840.743</td>\n",
       "      <td>10623.299</td>\n",
       "      <td>9933.903</td>\n",
       "      <td>12236.779</td>\n",
       "      <td>11378.701</td>\n",
       "      <td>...</td>\n",
       "      <td>2500.894</td>\n",
       "      <td>1349.456</td>\n",
       "      <td>861.745</td>\n",
       "      <td>872.746</td>\n",
       "      <td>898.415</td>\n",
       "      <td>883.747</td>\n",
       "      <td>NaN</td>\n",
       "      <td>NaN</td>\n",
       "      <td>NaN</td>\n",
       "      <td>NaN</td>\n",
       "    </tr>\n",
       "  </tbody>\n",
       "</table>\n",
       "<p>5 rows × 62 columns</p>\n",
       "</div>"
      ],
      "text/plain": [
       "                  0          1          2          3          4          5    \n",
       "0        Data Source        NaN        NaN        NaN        NaN        NaN  \\\n",
       "1  Last Updated Date        NaN        NaN        NaN        NaN        NaN   \n",
       "2                NaN        NaN        NaN        NaN        NaN        NaN   \n",
       "3       Country Name   1960.000   1961.000   1962.000   1963.000   1964.000   \n",
       "4              Aruba  11092.675  11576.719  12713.489  12178.107  11840.743   \n",
       "\n",
       "          6         7          8          9   ...        52        53   \n",
       "0        NaN       NaN        NaN        NaN  ...       NaN       NaN  \\\n",
       "1        NaN       NaN        NaN        NaN  ...       NaN       NaN   \n",
       "2        NaN       NaN        NaN        NaN  ...       NaN       NaN   \n",
       "3   1965.000  1966.000   1967.000   1968.000  ...  2011.000  2012.000   \n",
       "4  10623.299  9933.903  12236.779  11378.701  ...  2500.894  1349.456   \n",
       "\n",
       "         54        55        56        57      58      59      60      61  \n",
       "0       NaN       NaN       NaN       NaN     NaN     NaN     NaN     NaN  \n",
       "1       NaN       NaN       NaN       NaN     NaN     NaN     NaN     NaN  \n",
       "2       NaN       NaN       NaN       NaN     NaN     NaN     NaN     NaN  \n",
       "3  2013.000  2014.000  2015.000  2016.000  2017.0  2018.0  2019.0  2020.0  \n",
       "4   861.745   872.746   898.415   883.747     NaN     NaN     NaN     NaN  \n",
       "\n",
       "[5 rows x 62 columns]"
      ]
     },
     "execution_count": 93,
     "metadata": {},
     "output_type": "execute_result"
    }
   ],
   "source": [
    "import pandas as pd\n",
    "df = pd.read_excel('WorldCO2.xls', sheet_name='Data', header=None)\n",
    "df.head()"
   ]
  },
  {
   "cell_type": "markdown",
   "id": "69506e46",
   "metadata": {},
   "source": [
    "## Normalize dataset\n",
    "The dataset file is not normalize. We should apply some functions from pandas to normalize this file and can work with the dataset."
   ]
  },
  {
   "cell_type": "code",
   "execution_count": 94,
   "id": "d286bd58",
   "metadata": {
    "ExecuteTime": {
     "end_time": "2023-08-20T11:43:01.802550Z",
     "start_time": "2023-08-20T11:43:01.785822Z"
    }
   },
   "outputs": [
    {
     "data": {
      "text/html": [
       "<div>\n",
       "<style scoped>\n",
       "    .dataframe tbody tr th:only-of-type {\n",
       "        vertical-align: middle;\n",
       "    }\n",
       "\n",
       "    .dataframe tbody tr th {\n",
       "        vertical-align: top;\n",
       "    }\n",
       "\n",
       "    .dataframe thead th {\n",
       "        text-align: right;\n",
       "    }\n",
       "</style>\n",
       "<table border=\"1\" class=\"dataframe\">\n",
       "  <thead>\n",
       "    <tr style=\"text-align: right;\">\n",
       "      <th></th>\n",
       "      <th>Country Name</th>\n",
       "      <th>Year</th>\n",
       "      <th>Pollution</th>\n",
       "    </tr>\n",
       "  </thead>\n",
       "  <tbody>\n",
       "    <tr>\n",
       "      <th>0</th>\n",
       "      <td>Aruba</td>\n",
       "      <td>1960.0</td>\n",
       "      <td>11092.675</td>\n",
       "    </tr>\n",
       "    <tr>\n",
       "      <th>1</th>\n",
       "      <td>Afganistán</td>\n",
       "      <td>1960.0</td>\n",
       "      <td>414.371</td>\n",
       "    </tr>\n",
       "    <tr>\n",
       "      <th>2</th>\n",
       "      <td>Angola</td>\n",
       "      <td>1960.0</td>\n",
       "      <td>550.050</td>\n",
       "    </tr>\n",
       "    <tr>\n",
       "      <th>3</th>\n",
       "      <td>Albania</td>\n",
       "      <td>1960.0</td>\n",
       "      <td>2024.184</td>\n",
       "    </tr>\n",
       "    <tr>\n",
       "      <th>4</th>\n",
       "      <td>Andorra</td>\n",
       "      <td>1960.0</td>\n",
       "      <td>NaN</td>\n",
       "    </tr>\n",
       "  </tbody>\n",
       "</table>\n",
       "</div>"
      ],
      "text/plain": [
       "  Country Name    Year  Pollution\n",
       "0        Aruba  1960.0  11092.675\n",
       "1   Afganistán  1960.0    414.371\n",
       "2       Angola  1960.0    550.050\n",
       "3      Albania  1960.0   2024.184\n",
       "4      Andorra  1960.0        NaN"
      ]
     },
     "execution_count": 94,
     "metadata": {},
     "output_type": "execute_result"
    }
   ],
   "source": [
    "df = df.drop(range(3)) # drop blank rows\n",
    "df.columns = df.iloc[0] # make the first row like columns\n",
    "df = df[1:] # drop the before first row\n",
    "df = df.drop(columns=[2016.0, 2017.0, 2018.0, 2019.0, 2020.0]) # drop year to predict because are null\n",
    "df = df.reset_index(drop=True) # reset index\n",
    "df = pd.melt(df, id_vars=['Country Name'], var_name='Year', value_name='Pollution') # Make unpivot to normalize the dataset\n",
    "df.head()"
   ]
  },
  {
   "cell_type": "code",
   "execution_count": 95,
   "id": "c857a88f",
   "metadata": {
    "ExecuteTime": {
     "end_time": "2023-08-20T11:43:02.939689Z",
     "start_time": "2023-08-20T11:43:02.929830Z"
    }
   },
   "outputs": [
    {
     "data": {
      "text/html": [
       "<div>\n",
       "<style scoped>\n",
       "    .dataframe tbody tr th:only-of-type {\n",
       "        vertical-align: middle;\n",
       "    }\n",
       "\n",
       "    .dataframe tbody tr th {\n",
       "        vertical-align: top;\n",
       "    }\n",
       "\n",
       "    .dataframe thead th {\n",
       "        text-align: right;\n",
       "    }\n",
       "</style>\n",
       "<table border=\"1\" class=\"dataframe\">\n",
       "  <thead>\n",
       "    <tr style=\"text-align: right;\">\n",
       "      <th></th>\n",
       "      <th>Country Name</th>\n",
       "      <th>Year</th>\n",
       "      <th>Pollution</th>\n",
       "    </tr>\n",
       "  </thead>\n",
       "  <tbody>\n",
       "    <tr>\n",
       "      <th>51</th>\n",
       "      <td>China</td>\n",
       "      <td>2011.0</td>\n",
       "      <td>9.733538e+06</td>\n",
       "    </tr>\n",
       "    <tr>\n",
       "      <th>52</th>\n",
       "      <td>China</td>\n",
       "      <td>2012.0</td>\n",
       "      <td>1.002857e+07</td>\n",
       "    </tr>\n",
       "    <tr>\n",
       "      <th>53</th>\n",
       "      <td>China</td>\n",
       "      <td>2013.0</td>\n",
       "      <td>1.025801e+07</td>\n",
       "    </tr>\n",
       "    <tr>\n",
       "      <th>54</th>\n",
       "      <td>China</td>\n",
       "      <td>2014.0</td>\n",
       "      <td>1.029193e+07</td>\n",
       "    </tr>\n",
       "    <tr>\n",
       "      <th>55</th>\n",
       "      <td>China</td>\n",
       "      <td>2015.0</td>\n",
       "      <td>1.014500e+07</td>\n",
       "    </tr>\n",
       "  </tbody>\n",
       "</table>\n",
       "</div>"
      ],
      "text/plain": [
       "   Country Name    Year     Pollution\n",
       "51        China  2011.0  9.733538e+06\n",
       "52        China  2012.0  1.002857e+07\n",
       "53        China  2013.0  1.025801e+07\n",
       "54        China  2014.0  1.029193e+07\n",
       "55        China  2015.0  1.014500e+07"
      ]
     },
     "execution_count": 95,
     "metadata": {},
     "output_type": "execute_result"
    }
   ],
   "source": [
    "# Select a country  \"China\"\n",
    "df = df[df['Country Name'] == 'China'].reset_index(drop=True)\n",
    "df.tail()"
   ]
  },
  {
   "cell_type": "markdown",
   "id": "8499aeb6",
   "metadata": {},
   "source": [
    "## Definates a function to create any linear regression function"
   ]
  },
  {
   "cell_type": "code",
   "execution_count": 96,
   "id": "40ccb9ab",
   "metadata": {
    "ExecuteTime": {
     "end_time": "2023-08-20T11:43:05.782731Z",
     "start_time": "2023-08-20T11:43:05.777505Z"
    }
   },
   "outputs": [],
   "source": [
    "# This is a superior order function. Receives a dataframe,  column name of var x and column name of var y\n",
    "# and return linear regression function for the select dataset\n",
    "\n",
    "def linear_regression_creator(df:pd.DataFrame, var_x:str, var_y:str):\n",
    "    \"\"\"We definate this function to create a linear regression. Justo to give it dataframe, column name of variable x \n",
    "        and column name of variable y\"\"\"\n",
    "    sum_xy = sum(df[var_x]*df[var_y])\n",
    "    sum_x = sum(df[var_x])\n",
    "    sum_y = sum(df[var_y])\n",
    "    n = len(df[var_x])\n",
    "    sum_x2 = sum(df[var_x]*df[var_x])\n",
    "    sum2_x = sum(df[var_x])**2\n",
    "\n",
    "    def linear_regression(x:float) -> float:\n",
    "        \"\"\"Función de regresión lineal, recibe una variable x y devuelve una variable y estimada\"\"\"\n",
    "        beta_1 = (n*sum_xy-sum_x*sum_y)/(n*sum_x2-sum2_x)\n",
    "        beta_0 = (sum_y - beta_1*sum_x)/n\n",
    "        return beta_0 + beta_1*x\n",
    "    return linear_regression"
   ]
  },
  {
   "cell_type": "markdown",
   "id": "d90a2191",
   "metadata": {},
   "source": [
    "## Make forecasting and show results"
   ]
  },
  {
   "cell_type": "code",
   "execution_count": 97,
   "id": "46fe28ca",
   "metadata": {
    "ExecuteTime": {
     "end_time": "2023-08-20T11:43:07.335426Z",
     "start_time": "2023-08-20T11:43:07.329234Z"
    }
   },
   "outputs": [
    {
     "data": {
      "text/plain": [
       "{2016: 7843116.383862317,\n",
       " 2017: 8005665.693688929,\n",
       " 2018: 8168215.003515542,\n",
       " 2019: 8330764.313342154,\n",
       " 2020: 8493313.623168766}"
      ]
     },
     "execution_count": 97,
     "metadata": {},
     "output_type": "execute_result"
    }
   ],
   "source": [
    "# We use the function defined above\n",
    "linear_regression = linear_regression_creator(df, 'Year', 'Pollution')\n",
    "\n",
    "# Select prectidion years\n",
    "years = [2016, 2017, 2018, 2019, 2020]\n",
    "\n",
    "# Apply linear regression model to each prediction year and save an list\n",
    "pollution_predictions = [linear_regression(year) for year in years]\n",
    "\n",
    "# Print predictions\n",
    "predictions = {key:value for key, value in zip(years, pollution_predictions)}\n",
    "predictions"
   ]
  },
  {
   "cell_type": "markdown",
   "id": "a9e57f9f",
   "metadata": {},
   "source": [
    "## Append predictions to dataset and show graphics"
   ]
  },
  {
   "cell_type": "code",
   "execution_count": 98,
   "id": "8e3aaf0c",
   "metadata": {
    "ExecuteTime": {
     "end_time": "2023-08-20T11:43:08.624902Z",
     "start_time": "2023-08-20T11:43:08.608594Z"
    }
   },
   "outputs": [
    {
     "data": {
      "text/html": [
       "<div>\n",
       "<style scoped>\n",
       "    .dataframe tbody tr th:only-of-type {\n",
       "        vertical-align: middle;\n",
       "    }\n",
       "\n",
       "    .dataframe tbody tr th {\n",
       "        vertical-align: top;\n",
       "    }\n",
       "\n",
       "    .dataframe thead th {\n",
       "        text-align: right;\n",
       "    }\n",
       "</style>\n",
       "<table border=\"1\" class=\"dataframe\">\n",
       "  <thead>\n",
       "    <tr style=\"text-align: right;\">\n",
       "      <th></th>\n",
       "      <th>Country Name</th>\n",
       "      <th>Year</th>\n",
       "      <th>Pollution</th>\n",
       "    </tr>\n",
       "  </thead>\n",
       "  <tbody>\n",
       "    <tr>\n",
       "      <th>56</th>\n",
       "      <td>China</td>\n",
       "      <td>2016</td>\n",
       "      <td>7.843116e+06</td>\n",
       "    </tr>\n",
       "    <tr>\n",
       "      <th>57</th>\n",
       "      <td>China</td>\n",
       "      <td>2017</td>\n",
       "      <td>8.005666e+06</td>\n",
       "    </tr>\n",
       "    <tr>\n",
       "      <th>58</th>\n",
       "      <td>China</td>\n",
       "      <td>2018</td>\n",
       "      <td>8.168215e+06</td>\n",
       "    </tr>\n",
       "    <tr>\n",
       "      <th>59</th>\n",
       "      <td>China</td>\n",
       "      <td>2019</td>\n",
       "      <td>8.330764e+06</td>\n",
       "    </tr>\n",
       "    <tr>\n",
       "      <th>60</th>\n",
       "      <td>China</td>\n",
       "      <td>2020</td>\n",
       "      <td>8.493314e+06</td>\n",
       "    </tr>\n",
       "  </tbody>\n",
       "</table>\n",
       "</div>"
      ],
      "text/plain": [
       "   Country Name  Year     Pollution\n",
       "56        China  2016  7.843116e+06\n",
       "57        China  2017  8.005666e+06\n",
       "58        China  2018  8.168215e+06\n",
       "59        China  2019  8.330764e+06\n",
       "60        China  2020  8.493314e+06"
      ]
     },
     "execution_count": 98,
     "metadata": {},
     "output_type": "execute_result"
    }
   ],
   "source": [
    "rows = [[country_name, year, pollution] for country_name, year, pollution in zip([\"China\"]*len(years), years, pollution_predictions)] \n",
    "for row in rows:\n",
    "    df.loc[-1] = row# adding a row\n",
    "    df.index = df.index + 1\n",
    "df = df.reset_index(drop=True)\n",
    "df.tail()"
   ]
  },
  {
   "cell_type": "code",
   "execution_count": 99,
   "id": "14b5fafc",
   "metadata": {
    "ExecuteTime": {
     "end_time": "2023-08-20T11:43:09.899422Z",
     "start_time": "2023-08-20T11:43:09.712939Z"
    }
   },
   "outputs": [
    {
     "data": {
      "image/png": "[encoded data removed]",
      "text/plain": [
       "<Figure size 640x480 with 1 Axes>"
      ]
     },
     "metadata": {},
     "output_type": "display_data"
    }
   ],
   "source": [
    "import matplotlib.pyplot as plt\n",
    "def show_linear_regression(df, var_x, var_y):\n",
    "    plt.scatter(df[var_x], df[var_y], label='Puntos')\n",
    "    plt.plot(df[var_x], df[var_x].apply(linear_regression), color='red', label='Recta de regresión')\n",
    "\n",
    "    plt.xlabel('Axis X')\n",
    "    plt.ylabel('Axis Y')\n",
    "    plt.title('Scatter plot and linear regression')\n",
    "    plt.legend()\n",
    "    plt.show()\n",
    "\n",
    "show_linear_regression(df, 'Year', 'Pollution')"
   ]
  }
 ],
 "metadata": {
  "kernelspec": {
   "display_name": "Python 3 (ipykernel)",
   "language": "python",
   "name": "python3"
  },
  "language_info": {
   "codemirror_mode": {
    "name": "ipython",
    "version": 3
   },
   "file_extension": ".py",
   "mimetype": "text/x-python",
   "name": "python",
   "nbconvert_exporter": "python",
   "pygments_lexer": "ipython3",
   "version": "3.11.3"
  }
 },
 "nbformat": 4,
 "nbformat_minor": 5
}
